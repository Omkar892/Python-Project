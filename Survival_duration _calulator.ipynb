{
 "cells": [
  {
   "cell_type": "markdown",
   "id": "d7efb123-0fbb-442c-993f-98e98a3554f4",
   "metadata": {},
   "source": [
    "# Survival Duration Calulator"
   ]
  },
  {
   "cell_type": "markdown",
   "id": "da8f704a-c2a0-4e9e-aa34-ac85e1cccd8b",
   "metadata": {},
   "source": [
    "### 1 Defing the class and method for survival duraction calulator\n",
    "\n",
    "(a) Class SurvivalDurationCalculator: This class is responsible for calculating the duration based on the person's age and time unit.\n",
    "\n",
    "(b) _init_ method: Initializes the class with the age and defines conversion factors for months, weeks, days, etc.\n",
    "\n",
    "(c) calculate_duration method: Accepts a time unit and calculates the survival duration based on the person's age.\n",
    "\n",
    "(d) _str_ method: Provides a string representation of the object (optional).\n",
    "\n",
    "(e) Error Handling: Raises a ValueError if the user inputs an invalid time unit.\n"
   ]
  },
  {
   "cell_type": "markdown",
   "id": "1e884a3b-d45c-49ab-a0a0-1564b71a3dbc",
   "metadata": {},
   "source": [
    "### 2 Define a login for calulation duration in 6 unit\n",
    "Months: 12 months in a year.\n",
    "\n",
    "Weeks: 52 weeks in a year.\n",
    "\n",
    "Days: 365 days in a year (ignoring leap years for simplicity).\n",
    "\n",
    "Hours: 24 hours in a day.\n",
    "\n",
    "Minutes: 60 minutes in an hour.\n",
    "\n",
    "Seconds: 60 seconds in a minute.\n",
    "\n",
    "         **Logic**\n",
    "Input: Age in years.\n",
    "\n",
    "Convert the age into the respective time unit:\n",
    "\n",
    "Months = Age × 12 (months per year)\n",
    "\n",
    "Weeks = Age × 52 (weeks per year)\n",
    "\n",
    "Days = Age × 365 (days per year)\n",
    "\n",
    "Hours = Days × 24 (hours per day)\n",
    "\n",
    "Minutes = Hours × 60 (minutes per hour)\n",
    "\n",
    "Seconds = Minutes × 60 (seconds per minute)\n",
    "\n",
    "Output: Return the calculated values in the respective units."
   ]
  },
  {
   "cell_type": "markdown",
   "id": "fe363f26-7322-41f1-973f-0cf295b7fe71",
   "metadata": {},
   "source": [
    "## Program"
   ]
  },
  {
   "cell_type": "code",
   "execution_count": 1,
   "id": "106e0365-48a8-47c3-88f3-dac3591012b7",
   "metadata": {
    "scrolled": true
   },
   "outputs": [
    {
     "name": "stdin",
     "output_type": "stream",
     "text": [
      "What's your age?  10\n"
     ]
    },
    {
     "name": "stdout",
     "output_type": "stream",
     "text": [
      "Months\n",
      "Weeks\n",
      "Days\n",
      "Hours\n",
      "Minutes\n",
      "Seconds\n"
     ]
    },
    {
     "name": "stdin",
     "output_type": "stream",
     "text": [
      "Please choose time unit:  months\n"
     ]
    },
    {
     "name": "stdout",
     "output_type": "stream",
     "text": [
      "You've lived for 120 months.\n"
     ]
    }
   ],
   "source": [
    "class SurvivalDurationCalculator:\n",
    "    \"\"\"Class to calculate the survival duration in different time units.\"\"\"\n",
    "    \n",
    "    def __init__(obj, age):\n",
    "        \"\"\"\n",
    "        Initializes the class with the age of the person.\n",
    "        \n",
    "        Args:\n",
    "            age: The age of the person in years.\n",
    "        \"\"\"\n",
    "        obj.age = age\n",
    "        obj.months_per_year = 12\n",
    "        obj.weeks_per_year = 52\n",
    "        obj.days_per_year = 365\n",
    "        obj.hours_per_day = 24\n",
    "        obj.minutes_per_hour = 60\n",
    "        obj.seconds_per_minute = 60\n",
    "\n",
    "    def calculate_duration(obj, time_unit):\n",
    "        \"\"\"\n",
    "        Calculates the survival duration in the specified time unit.\n",
    "\n",
    "        Args:\n",
    "            time_unit: The time unit in which to calculate the duration. \n",
    "                       Can be \"Months\", \"Weeks\", \"Days\", \"Hours\", \"Minutes\", or \"Seconds\".\n",
    "\n",
    "        Returns:\n",
    "            The duration in the specified time unit.\n",
    "        \"\"\"\n",
    "        time_unit = time_unit.lower()\n",
    "        \n",
    "        if time_unit == \"months\":\n",
    "            return obj.age * obj.months_per_year # age * 12 months per year\n",
    "        elif time_unit == \"weeks\":\n",
    "            return obj.age * obj.weeks_per_year # age * 52 weeks per year\n",
    "        elif time_unit == \"days\":\n",
    "            return obj.age * obj.days_per_year # age * 365 days per year\n",
    "        elif time_unit == \"hours\":\n",
    "            return obj.age * obj.days_per_year * obj.hours_per_day # age * 365 days per year * 24 hours per day\n",
    "        elif time_unit == \"minutes\":\n",
    "            return obj.age * obj.days_per_year * obj.hours_per_day * obj.minutes_per_hour # age * 365 days per year * 24 hours per day * 60 min per hour\n",
    "        elif time_unit == \"seconds\":\n",
    "            return obj.age * obj.days_per_year * obj.hours_per_day * obj.minutes_per_hour * obj.seconds_per_minute # age * 365 days per year * 24 hours per day * 60 min per hour * 60 seconds per minute \n",
    "        else:\n",
    "            raise ValueError(f\"Invalid time unit: {time_unit}\")\n",
    "    \n",
    "    def __str__(obj):\n",
    "        \"\"\"Returns a string representation of the person's age.\"\"\"\n",
    "        return f\"The person's age is {obj.age} years.\"\n",
    "\n",
    "# Example usage\n",
    "if __name__ == \"__main__\":\n",
    "    age = int(input(\"What's your age? \"))\n",
    "    calculator = SurvivalDurationCalculator(age)\n",
    "    \n",
    "    print(\"Months\\nWeeks\\nDays\\nHours\\nMinutes\\nSeconds\")\n",
    "    time_unit = input(\"Please choose time unit: \")\n",
    "    \n",
    "    try:\n",
    "        duration = calculator.calculate_duration(time_unit)\n",
    "        print(f\"You've lived for {duration} {time_unit.lower()}.\")\n",
    "    except ValueError as e:\n",
    "        print(e)\n"
   ]
  },
  {
   "cell_type": "code",
   "execution_count": null,
   "id": "5884f6bd-6b15-4b6a-b24e-f4fa1908660a",
   "metadata": {},
   "outputs": [],
   "source": []
  }
 ],
 "metadata": {
  "kernelspec": {
   "display_name": "Python 3 (ipykernel)",
   "language": "python",
   "name": "python3"
  },
  "language_info": {
   "codemirror_mode": {
    "name": "ipython",
    "version": 3
   },
   "file_extension": ".py",
   "mimetype": "text/x-python",
   "name": "python",
   "nbconvert_exporter": "python",
   "pygments_lexer": "ipython3",
   "version": "3.11.7"
  }
 },
 "nbformat": 4,
 "nbformat_minor": 5
}
